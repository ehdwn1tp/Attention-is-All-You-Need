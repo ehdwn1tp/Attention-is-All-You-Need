{
 "cells": [
  {
   "cell_type": "code",
   "execution_count": 1,
   "metadata": {},
   "outputs": [],
   "source": [
    "import torch\n",
    "from Attention import *"
   ]
  },
  {
   "cell_type": "code",
   "execution_count": 7,
   "metadata": {},
   "outputs": [],
   "source": [
    "a = torch.Tensor([\n",
    "    [1, 2, 3],\n",
    "    [6, 9, 8],\n",
    "    [10, 16, 25],\n",
    "    [4, 80, 53]\n",
    "])"
   ]
  },
  {
   "cell_type": "code",
   "execution_count": 8,
   "metadata": {},
   "outputs": [
    {
     "data": {
      "text/plain": [
       "2"
      ]
     },
     "execution_count": 8,
     "metadata": {},
     "output_type": "execute_result"
    }
   ],
   "source": [
    "a.dim()"
   ]
  },
  {
   "cell_type": "code",
   "execution_count": 9,
   "metadata": {},
   "outputs": [
    {
     "name": "stderr",
     "output_type": "stream",
     "text": [
      "C:\\Users\\LukeLim\\AppData\\Local\\Temp\\ipykernel_18624\\2430103232.py:1: UserWarning: Implicit dimension choice for softmax has been deprecated. Change the call to include dim=X as an argument.\n",
      "  torch.nn.functional.softmax(a)\n"
     ]
    },
    {
     "data": {
      "text/plain": [
       "tensor([[9.0031e-02, 2.4473e-01, 6.6524e-01],\n",
       "        [3.5119e-02, 7.0538e-01, 2.5950e-01],\n",
       "        [3.0586e-07, 1.2339e-04, 9.9988e-01],\n",
       "        [9.8542e-34, 1.0000e+00, 1.8795e-12]])"
      ]
     },
     "execution_count": 9,
     "metadata": {},
     "output_type": "execute_result"
    }
   ],
   "source": [
    "torch.nn.functional.softmax(a)"
   ]
  },
  {
   "cell_type": "code",
   "execution_count": 10,
   "metadata": {},
   "outputs": [
    {
     "name": "stderr",
     "output_type": "stream",
     "text": [
      "C:\\Users\\LukeLim\\AppData\\Local\\Temp\\ipykernel_18624\\3756014145.py:1: UserWarning: Implicit dimension choice for softmax has been deprecated. Change the call to include dim=X as an argument.\n",
      "  torch.nn.functional.softmax(a).sum(1)\n"
     ]
    },
    {
     "data": {
      "text/plain": [
       "tensor([1.0000, 1.0000, 1.0000, 1.0000])"
      ]
     },
     "execution_count": 10,
     "metadata": {},
     "output_type": "execute_result"
    }
   ],
   "source": [
    "torch.nn.functional.softmax(a).sum(1)"
   ]
  },
  {
   "cell_type": "code",
   "execution_count": 14,
   "metadata": {},
   "outputs": [],
   "source": [
    "from torch.nn.functional import softmax\n",
    "\n",
    "import math\n",
    "\n",
    "# Scaled Dot-Product Attention\n",
    "def scaled_dot_product_attention(query, key, value):\n",
    "    # Q @ KT\n",
    "    attention = query @ key.T\n",
    "    print(attention)\n",
    "\n",
    "    # Scaling\n",
    "    attention = attention / math.sqrt(key.dim())\n",
    "    print(attention)\n",
    "\n",
    "    # SoftMax\n",
    "    attention = softmax(attention)\n",
    "    print(attention)\n",
    "\n",
    "    # @ V\n",
    "    attention = attention @ value\n",
    "    return attention"
   ]
  },
  {
   "cell_type": "code",
   "execution_count": 15,
   "metadata": {},
   "outputs": [
    {
     "name": "stdout",
     "output_type": "stream",
     "text": [
      "tensor([[  14.,   48.,  117.,  323.],\n",
      "        [  48.,  181.,  404., 1168.],\n",
      "        [ 117.,  404.,  981., 2645.],\n",
      "        [ 323., 1168., 2645., 9225.]])\n",
      "tensor([[   9.8995,   33.9411,   82.7315,  228.3955],\n",
      "        [  33.9411,  127.9863,  285.6711,  825.9008],\n",
      "        [  82.7315,  285.6711,  693.6718, 1870.2975],\n",
      "        [ 228.3955,  825.9008, 1870.2975, 6523.0601]])\n",
      "tensor([[0., 0., 0., 1.],\n",
      "        [0., 0., 0., 1.],\n",
      "        [0., 0., 0., 1.],\n",
      "        [0., 0., 0., 1.]])\n"
     ]
    },
    {
     "name": "stderr",
     "output_type": "stream",
     "text": [
      "C:\\Users\\LukeLim\\AppData\\Local\\Temp\\ipykernel_18624\\1562431555.py:16: UserWarning: Implicit dimension choice for softmax has been deprecated. Change the call to include dim=X as an argument.\n",
      "  attention = softmax(attention)\n"
     ]
    },
    {
     "data": {
      "text/plain": [
       "tensor([[ 4., 80., 53.],\n",
       "        [ 4., 80., 53.],\n",
       "        [ 4., 80., 53.],\n",
       "        [ 4., 80., 53.]])"
      ]
     },
     "execution_count": 15,
     "metadata": {},
     "output_type": "execute_result"
    }
   ],
   "source": [
    "scaled_dot_product_attention(a, a, a)"
   ]
  },
  {
   "cell_type": "code",
   "execution_count": null,
   "metadata": {},
   "outputs": [],
   "source": []
  }
 ],
 "metadata": {
  "kernelspec": {
   "display_name": "devcs",
   "language": "python",
   "name": "python3"
  },
  "language_info": {
   "codemirror_mode": {
    "name": "ipython",
    "version": 3
   },
   "file_extension": ".py",
   "mimetype": "text/x-python",
   "name": "python",
   "nbconvert_exporter": "python",
   "pygments_lexer": "ipython3",
   "version": "3.10.12"
  }
 },
 "nbformat": 4,
 "nbformat_minor": 2
}
